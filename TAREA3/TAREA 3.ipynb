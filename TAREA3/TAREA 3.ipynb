{
 "cells": [
  {
   "cell_type": "code",
   "execution_count": 12,
   "id": "4cdb2e35",
   "metadata": {},
   "outputs": [
    {
     "data": {
      "text/plain": [
       "[x == 7, x == -1, x == 1]"
      ]
     },
     "execution_count": 12,
     "metadata": {},
     "output_type": "execute_result"
    }
   ],
   "source": [
    "x = var('x')\n",
    "f = x^3 - x -7*x^2 + 7\n",
    "solve(f,x)"
   ]
  },
  {
   "cell_type": "code",
   "execution_count": 10,
   "id": "ad5c6a77",
   "metadata": {},
   "outputs": [
    {
     "name": "stdout",
     "output_type": "stream",
     "text": [
      "#0: solve_rat_ineq(ineq=abs(_SAGE_VAR_t-7) >= 3)\n"
     ]
    },
    {
     "data": {
      "text/plain": [
       "[[t == 10], [t == 4], [t < 4], [10 < t]]"
      ]
     },
     "execution_count": 10,
     "metadata": {},
     "output_type": "execute_result"
    }
   ],
   "source": [
    "t = var('t')\n",
    "solve(abs(t-7)>=3,t)"
   ]
  },
  {
   "cell_type": "code",
   "execution_count": 4,
   "id": "e49abb78",
   "metadata": {},
   "outputs": [
    {
     "data": {
      "text/plain": [
       "0.0"
      ]
     },
     "execution_count": 4,
     "metadata": {},
     "output_type": "execute_result"
    }
   ],
   "source": [
    "x = var('x')\n",
    "h = exp(x)-cos(x)\n",
    "find_root(h, -pi/2,0)"
   ]
  },
  {
   "cell_type": "code",
   "execution_count": 6,
   "id": "dec76c0d",
   "metadata": {},
   "outputs": [
    {
     "data": {
      "text/plain": [
       "-1.1328290472045334e-17"
      ]
     },
     "execution_count": 6,
     "metadata": {},
     "output_type": "execute_result"
    }
   ],
   "source": [
    "x = var('x')\n",
    "h = exp(x)-cos(x)\n",
    "find_root(h, -pi/2,1)"
   ]
  },
  {
   "cell_type": "code",
   "execution_count": null,
   "id": "efd530ea",
   "metadata": {},
   "outputs": [],
   "source": []
  }
 ],
 "metadata": {
  "kernelspec": {
   "display_name": "SageMath 9.7",
   "language": "sage",
   "name": "sagemath-9.7"
  },
  "language_info": {
   "codemirror_mode": {
    "name": "ipython",
    "version": 3
   },
   "file_extension": ".py",
   "mimetype": "text/x-python",
   "name": "python",
   "nbconvert_exporter": "python",
   "pygments_lexer": "ipython3",
   "version": "3.10.5"
  }
 },
 "nbformat": 4,
 "nbformat_minor": 5
}
